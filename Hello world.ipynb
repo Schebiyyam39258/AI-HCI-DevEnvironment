{
 "cells": [
  {
   "cell_type": "code",
   "execution_count": null,
   "id": "fc2fa8d5-85eb-4130-a2b3-4b2046e62920",
   "metadata": {},
   "outputs": [
    {
     "name": "stdout",
     "output_type": "stream",
     "text": [
      "Running in Jupyter...\n",
      " * Serving Flask app '__main__'\n",
      " * Debug mode: off\n"
     ]
    },
    {
     "name": "stderr",
     "output_type": "stream",
     "text": [
      "WARNING: This is a development server. Do not use it in a production deployment. Use a production WSGI server instead.\n",
      " * Running on http://127.0.0.1:5000\n",
      "Press CTRL+C to quit\n",
      "127.0.0.1 - - [01/Jul/2025 13:46:50] \"GET / HTTP/1.1\" 200 -\n"
     ]
    }
   ],
   "source": [
    "#!pip install flask\n",
    "\n",
    "from flask import Flask, render_template\n",
    "import os\n",
    "import platform\n",
    "\n",
    "app = Flask(__name__)\n",
    "\n",
    "@app.route('/')\n",
    "def hello_world():\n",
    "    return render_template('index.html')\n",
    "\n",
    "def is_notebook():\n",
    "    try:\n",
    "        shell = get_ipython().__class__.__name__\n",
    "        return shell == 'ZMQInteractiveShell'\n",
    "    except NameError:\n",
    "        return False\n",
    "\n",
    "if is_notebook():\n",
    "    print(\"Running in Jupyter...\")\n",
    "    app.run()\n",
    "else:\n",
    "    print(\"Run this app using a terminal: python app.py\")\n"
   ]
  },
  {
   "cell_type": "code",
   "execution_count": null,
   "id": "54ee3281-2302-4eec-b322-18546b889ee8",
   "metadata": {},
   "outputs": [],
   "source": []
  }
 ],
 "metadata": {
  "kernelspec": {
   "display_name": "Python 3 (ipykernel)",
   "language": "python",
   "name": "python3"
  },
  "language_info": {
   "codemirror_mode": {
    "name": "ipython",
    "version": 3
   },
   "file_extension": ".py",
   "mimetype": "text/x-python",
   "name": "python",
   "nbconvert_exporter": "python",
   "pygments_lexer": "ipython3",
   "version": "3.12.7"
  }
 },
 "nbformat": 4,
 "nbformat_minor": 5
}
